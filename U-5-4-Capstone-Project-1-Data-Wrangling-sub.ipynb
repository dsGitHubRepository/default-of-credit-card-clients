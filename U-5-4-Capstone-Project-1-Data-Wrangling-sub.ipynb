{
 "cells": [
  {
   "cell_type": "code",
   "execution_count": null,
   "metadata": {},
   "outputs": [],
   "source": [
    "# blake test comment"
   ]
  },
  {
   "cell_type": "code",
   "execution_count": 43,
   "metadata": {
    "scrolled": true
   },
   "outputs": [
    {
     "name": "stdout",
     "output_type": "stream",
     "text": [
      "<class 'pandas.core.frame.DataFrame'>\n",
      "RangeIndex: 30000 entries, 0 to 29999\n",
      "Data columns (total 25 columns):\n",
      "ID                            30000 non-null int64\n",
      "LIMIT_BAL                     30000 non-null int64\n",
      "SEX                           30000 non-null int64\n",
      "EDUCATION                     30000 non-null int64\n",
      "MARRIAGE                      30000 non-null int64\n",
      "AGE                           30000 non-null int64\n",
      "PAY_0                         30000 non-null int64\n",
      "PAY_2                         30000 non-null int64\n",
      "PAY_3                         30000 non-null int64\n",
      "PAY_4                         30000 non-null int64\n",
      "PAY_5                         30000 non-null int64\n",
      "PAY_6                         30000 non-null int64\n",
      "BILL_AMT1                     30000 non-null int64\n",
      "BILL_AMT2                     30000 non-null int64\n",
      "BILL_AMT3                     30000 non-null int64\n",
      "BILL_AMT4                     30000 non-null int64\n",
      "BILL_AMT5                     30000 non-null int64\n",
      "BILL_AMT6                     30000 non-null int64\n",
      "PAY_AMT1                      30000 non-null int64\n",
      "PAY_AMT2                      30000 non-null int64\n",
      "PAY_AMT3                      30000 non-null int64\n",
      "PAY_AMT4                      30000 non-null int64\n",
      "PAY_AMT5                      30000 non-null int64\n",
      "PAY_AMT6                      30000 non-null int64\n",
      "default payment next month    30000 non-null int64\n",
      "dtypes: int64(25)\n",
      "memory usage: 5.7 MB\n",
      "None\n"
     ]
    }
   ],
   "source": [
    "import pandas as pd \n",
    "import numpy as np\n",
    "import matplotlib.pyplot as plt\n",
    "\n",
    "df = pd.read_excel('default of credit card clients.xls', skiprows=range(1))\n",
    "print(df.info())"
   ]
  },
  {
   "cell_type": "markdown",
   "metadata": {},
   "source": [
    "Default of credit card clients.xls data set consists of 25 attributes such as ‘LIMIT_BAL’, customer personal information, six payment records, also the bill amount and records of six previous payments. Dataset has 30,000 instances. For data cleaning purpose I will check pretty much all the columns such as df[‘ID’] we can see the first\n",
    "column has no missing values."
   ]
  },
  {
   "cell_type": "markdown",
   "metadata": {},
   "source": [
    "Now we will change name of several columns such as the six pay records."
   ]
  },
  {
   "cell_type": "code",
   "execution_count": 44,
   "metadata": {},
   "outputs": [
    {
     "name": "stdout",
     "output_type": "stream",
     "text": [
      "Index(['ID', 'LIMIT_BAL', 'SEX', 'EDUCATION', 'MARRIAGE', 'AGE', 'PAY1',\n",
      "       'PAY2', 'PAY3', 'PAY4', 'PAY5', 'PAY6', 'BILL_AMT1', 'BILL_AMT2',\n",
      "       'BILL_AMT3', 'BILL_AMT4', 'BILL_AMT5', 'BILL_AMT6', 'PAY_AMT1',\n",
      "       'PAY_AMT2', 'PAY_AMT3', 'PAY_AMT4', 'PAY_AMT5', 'PAY_AMT6',\n",
      "       'default payment next month'],\n",
      "      dtype='object')\n"
     ]
    }
   ],
   "source": [
    "pay = ['PAY_0', 'PAY_2', 'PAY_3', 'PAY_4', 'PAY_5', 'PAY_6']\n",
    "col = 0\n",
    "while(col<6):\n",
    "    df.rename(columns={pay[col]:'PAY'+str(col+1)}, inplace=True)\n",
    "    col += 1\n",
    "print(df.columns)"
   ]
  },
  {
   "cell_type": "code",
   "execution_count": 29,
   "metadata": {},
   "outputs": [
    {
     "name": "stdout",
     "output_type": "stream",
     "text": [
      "   ID  LIMIT_BAL  SEX  EDUCATION  MARRIAGE  AGE  PAY_0  PAY_2  PAY_3  PAY_4  \\\n",
      "0   1      20000    2          2         1   24      2      2     -1     -1   \n",
      "1   2     120000    2          2         2   26     -1      2      0      0   \n",
      "2   3      90000    2          2         2   34      0      0      0      0   \n",
      "3   4      50000    2          2         1   37      0      0      0      0   \n",
      "4   5      50000    1          2         1   57     -1      0     -1      0   \n",
      "\n",
      "              ...              BILL_AMT4  BILL_AMT5  BILL_AMT6  PAY_AMT1  \\\n",
      "0             ...                      0          0          0         0   \n",
      "1             ...                   3272       3455       3261         0   \n",
      "2             ...                  14331      14948      15549      1518   \n",
      "3             ...                  28314      28959      29547      2000   \n",
      "4             ...                  20940      19146      19131      2000   \n",
      "\n",
      "   PAY_AMT2  PAY_AMT3  PAY_AMT4  PAY_AMT5  PAY_AMT6  \\\n",
      "0       689         0         0         0         0   \n",
      "1      1000      1000      1000         0      2000   \n",
      "2      1500      1000      1000      1000      5000   \n",
      "3      2019      1200      1100      1069      1000   \n",
      "4     36681     10000      9000       689       679   \n",
      "\n",
      "   default payment next month  \n",
      "0                           1  \n",
      "1                           1  \n",
      "2                           0  \n",
      "3                           0  \n",
      "4                           0  \n",
      "\n",
      "[5 rows x 25 columns]\n"
     ]
    }
   ],
   "source": [
    "print(df.head(5))"
   ]
  },
  {
   "cell_type": "code",
   "execution_count": 46,
   "metadata": {},
   "outputs": [
    {
     "name": "stdout",
     "output_type": "stream",
     "text": [
      "False    30000\n",
      "Name: ID, dtype: int64\n",
      "False    30000\n",
      "Name: LIMIT_BAL, dtype: int64\n",
      "False    30000\n",
      "Name: SEX, dtype: int64\n",
      "False    30000\n",
      "Name: EDUCATION, dtype: int64\n",
      "False    30000\n",
      "Name: MARRIAGE, dtype: int64\n",
      "False    30000\n",
      "Name: AGE, dtype: int64\n",
      "False    30000\n",
      "Name: PAY1, dtype: int64\n",
      "False    30000\n",
      "Name: PAY2, dtype: int64\n",
      "False    30000\n",
      "Name: PAY3, dtype: int64\n",
      "False    30000\n",
      "Name: PAY4, dtype: int64\n",
      "False    30000\n",
      "Name: PAY5, dtype: int64\n",
      "False    30000\n",
      "Name: PAY6, dtype: int64\n",
      "False    30000\n",
      "Name: BILL_AMT1, dtype: int64\n",
      "False    30000\n",
      "Name: BILL_AMT2, dtype: int64\n",
      "False    30000\n",
      "Name: BILL_AMT3, dtype: int64\n",
      "False    30000\n",
      "Name: BILL_AMT4, dtype: int64\n",
      "False    30000\n",
      "Name: BILL_AMT5, dtype: int64\n",
      "False    30000\n",
      "Name: BILL_AMT6, dtype: int64\n",
      "False    30000\n",
      "Name: PAY_AMT1, dtype: int64\n",
      "False    30000\n",
      "Name: PAY_AMT2, dtype: int64\n",
      "False    30000\n",
      "Name: PAY_AMT3, dtype: int64\n",
      "False    30000\n",
      "Name: PAY_AMT4, dtype: int64\n",
      "False    30000\n",
      "Name: PAY_AMT5, dtype: int64\n",
      "False    30000\n",
      "Name: PAY_AMT6, dtype: int64\n",
      "False    30000\n",
      "Name: default payment next month, dtype: int64\n"
     ]
    }
   ],
   "source": [
    "idx = 0 \n",
    "while (idx<len(df.columns)):\n",
    "    print(df[str(df.columns[idx])].isna().value_counts())\n",
    "    idx += 1 "
   ]
  },
  {
   "cell_type": "markdown",
   "metadata": {},
   "source": [
    "As a check the type of missing values isna reports I would like to include the following extra analysis "
   ]
  },
  {
   "cell_type": "code",
   "execution_count": 50,
   "metadata": {},
   "outputs": [
    {
     "name": "stdout",
     "output_type": "stream",
     "text": [
      "  lett  num   val\n",
      "0    A  1.0  10.0\n",
      "1    B  NaN  30.0\n",
      "2    C  3.0   NaN\n"
     ]
    }
   ],
   "source": [
    "df_missing_values = pd.DataFrame({'lett':['A', 'B', 'C'], 'num':[1, None, 3], 'val':[10, 30, np.NaN]})\n",
    "print(df_missing_values)"
   ]
  },
  {
   "cell_type": "code",
   "execution_count": 51,
   "metadata": {},
   "outputs": [
    {
     "data": {
      "text/plain": [
       "False    2\n",
       "True     1\n",
       "Name: num, dtype: int64"
      ]
     },
     "execution_count": 51,
     "metadata": {},
     "output_type": "execute_result"
    }
   ],
   "source": [
    "df_missing_values['num'].isna().value_counts()"
   ]
  },
  {
   "cell_type": "code",
   "execution_count": 52,
   "metadata": {},
   "outputs": [
    {
     "data": {
      "text/plain": [
       "False    2\n",
       "True     1\n",
       "Name: val, dtype: int64"
      ]
     },
     "execution_count": 52,
     "metadata": {},
     "output_type": "execute_result"
    }
   ],
   "source": [
    "df_missing_values['val'].isna().value_counts()"
   ]
  },
  {
   "cell_type": "markdown",
   "metadata": {},
   "source": [
    "Above steps shows that default of credit card clients.xls data set does not have any ‘NaN’ or None."
   ]
  }
 ],
 "metadata": {
  "kernelspec": {
   "display_name": "Python 3",
   "language": "python",
   "name": "python3"
  },
  "language_info": {
   "codemirror_mode": {
    "name": "ipython",
    "version": 3
   },
   "file_extension": ".py",
   "mimetype": "text/x-python",
   "name": "python",
   "nbconvert_exporter": "python",
   "pygments_lexer": "ipython3",
   "version": "3.7.4"
  }
 },
 "nbformat": 4,
 "nbformat_minor": 2
}
