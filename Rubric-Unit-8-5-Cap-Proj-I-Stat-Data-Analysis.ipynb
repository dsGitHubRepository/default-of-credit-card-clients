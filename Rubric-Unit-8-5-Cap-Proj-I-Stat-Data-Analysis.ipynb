{
 "cells": [
  {
   "cell_type": "code",
   "execution_count": 34,
   "metadata": {},
   "outputs": [],
   "source": [
    "import pandas as pd\n",
    "import numpy as np\n",
    "import matplotlib.pyplot as plt\n",
    "\n",
    "from scipy import stats\n",
    "from numpy.random import seed\n",
    "from scipy.stats import norm"
   ]
  },
  {
   "cell_type": "code",
   "execution_count": 35,
   "metadata": {},
   "outputs": [
    {
     "name": "stdout",
     "output_type": "stream",
     "text": [
      "<class 'pandas.core.frame.DataFrame'>\n",
      "RangeIndex: 30000 entries, 0 to 29999\n",
      "Data columns (total 25 columns):\n",
      "ID                            30000 non-null int64\n",
      "LIMIT_BAL                     30000 non-null int64\n",
      "SEX                           30000 non-null int64\n",
      "EDUCATION                     30000 non-null int64\n",
      "MARRIAGE                      30000 non-null int64\n",
      "AGE                           30000 non-null int64\n",
      "PAY_0                         30000 non-null int64\n",
      "PAY_2                         30000 non-null int64\n",
      "PAY_3                         30000 non-null int64\n",
      "PAY_4                         30000 non-null int64\n",
      "PAY_5                         30000 non-null int64\n",
      "PAY_6                         30000 non-null int64\n",
      "BILL_AMT1                     30000 non-null int64\n",
      "BILL_AMT2                     30000 non-null int64\n",
      "BILL_AMT3                     30000 non-null int64\n",
      "BILL_AMT4                     30000 non-null int64\n",
      "BILL_AMT5                     30000 non-null int64\n",
      "BILL_AMT6                     30000 non-null int64\n",
      "PAY_AMT1                      30000 non-null int64\n",
      "PAY_AMT2                      30000 non-null int64\n",
      "PAY_AMT3                      30000 non-null int64\n",
      "PAY_AMT4                      30000 non-null int64\n",
      "PAY_AMT5                      30000 non-null int64\n",
      "PAY_AMT6                      30000 non-null int64\n",
      "default payment next month    30000 non-null int64\n",
      "dtypes: int64(25)\n",
      "memory usage: 5.7 MB\n"
     ]
    }
   ],
   "source": [
    "df = pd.read_excel('../DATA/default of credit card clients.xls', skiprows=range(1))\n",
    "df.info()"
   ]
  },
  {
   "cell_type": "code",
   "execution_count": 36,
   "metadata": {},
   "outputs": [
    {
     "data": {
      "text/plain": [
       "Index(['ID', 'LIMIT_BAL', 'SEX', 'EDUCATION', 'MARRIAGE', 'AGE', 'PAY_1',\n",
       "       'PAY_2', 'PAY_3', 'PAY_4', 'PAY_5', 'PAY_6', 'BILL_AMT1', 'BILL_AMT2',\n",
       "       'BILL_AMT3', 'BILL_AMT4', 'BILL_AMT5', 'BILL_AMT6', 'PAY_AMT1',\n",
       "       'PAY_AMT2', 'PAY_AMT3', 'PAY_AMT4', 'PAY_AMT5', 'PAY_AMT6',\n",
       "       'default payment next month'],\n",
       "      dtype='object')"
      ]
     },
     "execution_count": 36,
     "metadata": {},
     "output_type": "execute_result"
    }
   ],
   "source": [
    "df.rename(columns={'PAY_0':'PAY_1'}, inplace=True)\n",
    "df.columns"
   ]
  },
  {
   "cell_type": "code",
   "execution_count": 37,
   "metadata": {},
   "outputs": [
    {
     "data": {
      "text/plain": [
       "Index(['ID', 'LIMIT_BAL', 'SEX', 'EDUCATION', 'MARRIAGE', 'AGE', 'PAY_1',\n",
       "       'PAY_2', 'PAY_3', 'PAY_4', 'PAY_5', 'PAY_6', 'BILL_AMT1', 'BILL_AMT2',\n",
       "       'BILL_AMT3', 'BILL_AMT4', 'BILL_AMT5', 'BILL_AMT6', 'PAY_AMT1',\n",
       "       'PAY_AMT2', 'PAY_AMT3', 'PAY_AMT4', 'PAY_AMT5', 'PAY_AMT6',\n",
       "       'default payment next month'],\n",
       "      dtype='object')"
      ]
     },
     "execution_count": 37,
     "metadata": {},
     "output_type": "execute_result"
    }
   ],
   "source": [
    "df.columns"
   ]
  },
  {
   "cell_type": "code",
   "execution_count": 38,
   "metadata": {},
   "outputs": [
    {
     "data": {
      "text/html": [
       "<div>\n",
       "<style scoped>\n",
       "    .dataframe tbody tr th:only-of-type {\n",
       "        vertical-align: middle;\n",
       "    }\n",
       "\n",
       "    .dataframe tbody tr th {\n",
       "        vertical-align: top;\n",
       "    }\n",
       "\n",
       "    .dataframe thead th {\n",
       "        text-align: right;\n",
       "    }\n",
       "</style>\n",
       "<table border=\"1\" class=\"dataframe\">\n",
       "  <thead>\n",
       "    <tr style=\"text-align: right;\">\n",
       "      <th></th>\n",
       "      <th>BILL_AMT1</th>\n",
       "      <th>BILL_AMT2</th>\n",
       "      <th>BILL_AMT3</th>\n",
       "      <th>BILL_AMT4</th>\n",
       "      <th>BILL_AMT5</th>\n",
       "      <th>BILL_AMT6</th>\n",
       "      <th>PAY_AMT1</th>\n",
       "      <th>PAY_AMT2</th>\n",
       "      <th>PAY_AMT3</th>\n",
       "      <th>PAY_AMT4</th>\n",
       "      <th>PAY_AMT5</th>\n",
       "      <th>PAY_AMT6</th>\n",
       "    </tr>\n",
       "  </thead>\n",
       "  <tbody>\n",
       "    <tr>\n",
       "      <th>0</th>\n",
       "      <td>3913</td>\n",
       "      <td>3102</td>\n",
       "      <td>689</td>\n",
       "      <td>0</td>\n",
       "      <td>0</td>\n",
       "      <td>0</td>\n",
       "      <td>0</td>\n",
       "      <td>689</td>\n",
       "      <td>0</td>\n",
       "      <td>0</td>\n",
       "      <td>0</td>\n",
       "      <td>0</td>\n",
       "    </tr>\n",
       "    <tr>\n",
       "      <th>1</th>\n",
       "      <td>2682</td>\n",
       "      <td>1725</td>\n",
       "      <td>2682</td>\n",
       "      <td>3272</td>\n",
       "      <td>3455</td>\n",
       "      <td>3261</td>\n",
       "      <td>0</td>\n",
       "      <td>1000</td>\n",
       "      <td>1000</td>\n",
       "      <td>1000</td>\n",
       "      <td>0</td>\n",
       "      <td>2000</td>\n",
       "    </tr>\n",
       "    <tr>\n",
       "      <th>2</th>\n",
       "      <td>29239</td>\n",
       "      <td>14027</td>\n",
       "      <td>13559</td>\n",
       "      <td>14331</td>\n",
       "      <td>14948</td>\n",
       "      <td>15549</td>\n",
       "      <td>1518</td>\n",
       "      <td>1500</td>\n",
       "      <td>1000</td>\n",
       "      <td>1000</td>\n",
       "      <td>1000</td>\n",
       "      <td>5000</td>\n",
       "    </tr>\n",
       "    <tr>\n",
       "      <th>3</th>\n",
       "      <td>46990</td>\n",
       "      <td>48233</td>\n",
       "      <td>49291</td>\n",
       "      <td>28314</td>\n",
       "      <td>28959</td>\n",
       "      <td>29547</td>\n",
       "      <td>2000</td>\n",
       "      <td>2019</td>\n",
       "      <td>1200</td>\n",
       "      <td>1100</td>\n",
       "      <td>1069</td>\n",
       "      <td>1000</td>\n",
       "    </tr>\n",
       "    <tr>\n",
       "      <th>4</th>\n",
       "      <td>8617</td>\n",
       "      <td>5670</td>\n",
       "      <td>35835</td>\n",
       "      <td>20940</td>\n",
       "      <td>19146</td>\n",
       "      <td>19131</td>\n",
       "      <td>2000</td>\n",
       "      <td>36681</td>\n",
       "      <td>10000</td>\n",
       "      <td>9000</td>\n",
       "      <td>689</td>\n",
       "      <td>679</td>\n",
       "    </tr>\n",
       "  </tbody>\n",
       "</table>\n",
       "</div>"
      ],
      "text/plain": [
       "   BILL_AMT1  BILL_AMT2  BILL_AMT3  BILL_AMT4  BILL_AMT5  BILL_AMT6  PAY_AMT1  \\\n",
       "0       3913       3102        689          0          0          0         0   \n",
       "1       2682       1725       2682       3272       3455       3261         0   \n",
       "2      29239      14027      13559      14331      14948      15549      1518   \n",
       "3      46990      48233      49291      28314      28959      29547      2000   \n",
       "4       8617       5670      35835      20940      19146      19131      2000   \n",
       "\n",
       "   PAY_AMT2  PAY_AMT3  PAY_AMT4  PAY_AMT5  PAY_AMT6  \n",
       "0       689         0         0         0         0  \n",
       "1      1000      1000      1000         0      2000  \n",
       "2      1500      1000      1000      1000      5000  \n",
       "3      2019      1200      1100      1069      1000  \n",
       "4     36681     10000      9000       689       679  "
      ]
     },
     "execution_count": 38,
     "metadata": {},
     "output_type": "execute_result"
    }
   ],
   "source": [
    "df_bill_pay = df[ ['BILL_AMT1', 'BILL_AMT2','BILL_AMT3', 'BILL_AMT4', 'BILL_AMT5', 'BILL_AMT6', 'PAY_AMT1','PAY_AMT2', 'PAY_AMT3', 'PAY_AMT4', 'PAY_AMT5', 'PAY_AMT6'] ]\n",
    "df_bill_pay.head()"
   ]
  },
  {
   "cell_type": "code",
   "execution_count": 39,
   "metadata": {},
   "outputs": [
    {
     "data": {
      "image/png": "[encoded data removed]",
      "text/plain": [
       "<Figure size 432x288 with 1 Axes>"
      ]
     },
     "metadata": {
      "needs_background": "light"
     },
     "output_type": "display_data"
    }
   ],
   "source": [
    "bill = df_bill_pay.BILL_AMT4[ df_bill_pay['BILL_AMT4'] < 125000 ]\n",
    "bill = bill[ bill>-10000]\n",
    "_= plt.hist(bill, bins=30)\n",
    "_= plt.autoscale(enable=True, tight=True)\n",
    "_= plt.title('hist of BILL_AMT4')\n",
    "_= plt.autoscale(enable=True, tight=True)\n",
    "_= plt.grid(False)\n",
    "_= plt.show()   "
   ]
  },
  {
   "cell_type": "code",
   "execution_count": 40,
   "metadata": {},
   "outputs": [
    {
     "data": {
      "image/png": "[encoded data removed]",
      "text/plain": [
       "<Figure size 432x288 with 1 Axes>"
      ]
     },
     "metadata": {
      "needs_background": "light"
     },
     "output_type": "display_data"
    }
   ],
   "source": [
    "pay = df_bill_pay.PAY_AMT4[ df_bill_pay['PAY_AMT4'] < 12500 ]\n",
    "pay = pay[ pay != 0 ]\n",
    "pay.apply(np.log)\n",
    "_= pay.hist(bins=24)\n",
    "_= plt.autoscale(enable=True, tight=True)\n",
    "_= plt.title('hist of PAY_AMT4')\n",
    "_= plt.grid(False)\n",
    "_= plt.show()   "
   ]
  },
  {
   "cell_type": "code",
   "execution_count": 41,
   "metadata": {},
   "outputs": [
    {
     "data": {
      "text/plain": [
       "0    23531\n",
       "1     6469\n",
       "Name: bill-pay-com-binary, dtype: int64"
      ]
     },
     "execution_count": 41,
     "metadata": {},
     "output_type": "execute_result"
    }
   ],
   "source": [
    "df['bill-pay-com-binary'] = df.apply(lambda row: 0 if row['PAY_AMT1'] < row['BILL_AMT1'] else 1, axis=1)\n",
    "df['bill-pay-com-binary'].value_counts()"
   ]
  },
  {
   "cell_type": "code",
   "execution_count": 42,
   "metadata": {},
   "outputs": [
    {
     "name": "stderr",
     "output_type": "stream",
     "text": [
      "/anaconda3/lib/python3.7/site-packages/ipykernel_launcher.py:4: SettingWithCopyWarning: \n",
      "A value is trying to be set on a copy of a slice from a DataFrame.\n",
      "Try using .loc[row_indexer,col_indexer] = value instead\n",
      "\n",
      "See the caveats in the documentation: http://pandas.pydata.org/pandas-docs/stable/indexing.html#indexing-view-versus-copy\n",
      "  after removing the cwd from sys.path.\n"
     ]
    },
    {
     "data": {
      "text/plain": [
       "Index(['BILL_AMT1', 'BILL_AMT2', 'BILL_AMT3', 'BILL_AMT4', 'BILL_AMT5',\n",
       "       'BILL_AMT6', 'PAY_AMT1', 'PAY_AMT2', 'PAY_AMT3', 'PAY_AMT4', 'PAY_AMT5',\n",
       "       'PAY_AMT6', 'bill-pay-binary-1', 'bill-pay-binary-2',\n",
       "       'bill-pay-binary-3', 'bill-pay-binary-4', 'bill-pay-binary-5',\n",
       "       'bill-pay-binary-6'],\n",
       "      dtype='object')"
      ]
     },
     "execution_count": 42,
     "metadata": {},
     "output_type": "execute_result"
    }
   ],
   "source": [
    "idx = 0\n",
    "while (idx<6):\n",
    "    df_bill_pay['bill-pay-binary-'+str(idx+1)] = df_bill_pay.apply(lambda row: 0 if \n",
    "    row[df_bill_pay.columns[idx]] < row[df_bill_pay.columns[idx+6]] else 1, axis=1)\n",
    "    idx += 1 \n",
    "    \n",
    "df_bill_pay.columns"
   ]
  },
  {
   "cell_type": "code",
   "execution_count": 43,
   "metadata": {},
   "outputs": [
    {
     "name": "stdout",
     "output_type": "stream",
     "text": [
      "[16.87 17.78 16.57 15.81 16.99 17.77]\n"
     ]
    }
   ],
   "source": [
    "pay_record = []\n",
    "for idx in range(0,6):\n",
    "    ctp = df_bill_pay[df_bill_pay.columns[idx+12]].value_counts()[0]*100/df_bill_pay[df_bill_pay.columns[idx+12]].value_counts()[1]\n",
    "    pay_record.append(ctp)\n",
    "    \n",
    "print(np.round(pay_record, 2))\n"
   ]
  },
  {
   "cell_type": "code",
   "execution_count": 57,
   "metadata": {},
   "outputs": [
    {
     "data": {
      "image/png": "[encoded data removed]",
      "text/plain": [
       "<Figure size 432x288 with 1 Axes>"
      ]
     },
     "metadata": {
      "needs_background": "light"
     },
     "output_type": "display_data"
    }
   ],
   "source": [
    "plt.bar(np.arange(1, len(pay_record)+1), ((pay_record)), color='blue')\n",
    "plt.autoscale(enable=True, tight=True)\n",
    "plt.xlabel('PAYMENTS')\n",
    "plt.xticks([1,2,3,4,5,6],('PAY1', 'PAY2', 'PAY3', 'PAY4', 'PAY5', 'PAY6'))\n",
    "plt.ylabel('Clients who paid more than the bill amount')\n",
    "plt.show()"
   ]
  },
  {
   "cell_type": "markdown",
   "metadata": {},
   "source": [
    "#### So percentile of customer who made full payments of the bill amount or more than that changes during various payments cycle with a sin like trendline on top of a large flat background. "
   ]
  },
  {
   "cell_type": "markdown",
   "metadata": {},
   "source": [
    "#### Now I want to see whether there is any time correlation in terms of customer who made payments 50% of the bill amount or more than that."
   ]
  },
  {
   "cell_type": "code",
   "execution_count": 45,
   "metadata": {},
   "outputs": [
    {
     "name": "stderr",
     "output_type": "stream",
     "text": [
      "/anaconda3/lib/python3.7/site-packages/ipykernel_launcher.py:4: SettingWithCopyWarning: \n",
      "A value is trying to be set on a copy of a slice from a DataFrame.\n",
      "Try using .loc[row_indexer,col_indexer] = value instead\n",
      "\n",
      "See the caveats in the documentation: http://pandas.pydata.org/pandas-docs/stable/indexing.html#indexing-view-versus-copy\n",
      "  after removing the cwd from sys.path.\n"
     ]
    },
    {
     "data": {
      "text/plain": [
       "Index(['BILL_AMT1', 'BILL_AMT2', 'BILL_AMT3', 'BILL_AMT4', 'BILL_AMT5',\n",
       "       'BILL_AMT6', 'PAY_AMT1', 'PAY_AMT2', 'PAY_AMT3', 'PAY_AMT4', 'PAY_AMT5',\n",
       "       'PAY_AMT6', 'bill-pay-binary-1', 'bill-pay-binary-2',\n",
       "       'bill-pay-binary-3', 'bill-pay-binary-4', 'bill-pay-binary-5',\n",
       "       'bill-pay-binary-6', 'bill-pay-50p-binary-1', 'bill-pay-50p-binary-2',\n",
       "       'bill-pay-50p-binary-3', 'bill-pay-50p-binary-4',\n",
       "       'bill-pay-50p-binary-5', 'bill-pay-50p-binary-6'],\n",
       "      dtype='object')"
      ]
     },
     "execution_count": 45,
     "metadata": {},
     "output_type": "execute_result"
    }
   ],
   "source": [
    "idx = 0\n",
    "while (idx<6):\n",
    "    df_bill_pay['bill-pay-50p-binary-'+str(idx+1)] = df_bill_pay.apply(lambda row: 0 if \n",
    "    row[df_bill_pay.columns[idx]]*0.5 < row[df_bill_pay.columns[idx+6]] else 1, axis=1)\n",
    "    idx += 1 \n",
    "    \n",
    "df_bill_pay.columns"
   ]
  },
  {
   "cell_type": "code",
   "execution_count": 46,
   "metadata": {},
   "outputs": [
    {
     "name": "stdout",
     "output_type": "stream",
     "text": [
      "[27.95 28.3  26.38 25.2  27.1  27.81]\n"
     ]
    }
   ],
   "source": [
    "pay_record_h = []\n",
    "for idx in range(0,6):\n",
    "    ctp = df_bill_pay[df_bill_pay.columns[idx+18]].value_counts()[0]*100/df_bill_pay[df_bill_pay.columns[idx+18]].value_counts()[1]\n",
    "    pay_record_h.append(ctp)\n",
    "    \n",
    "print(np.round(pay_record_h, 2))"
   ]
  },
  {
   "cell_type": "code",
   "execution_count": 56,
   "metadata": {},
   "outputs": [
    {
     "data": {
      "image/png": "[encoded data removed]",
      "text/plain": [
       "<Figure size 432x288 with 1 Axes>"
      ]
     },
     "metadata": {
      "needs_background": "light"
     },
     "output_type": "display_data"
    }
   ],
   "source": [
    "plt.bar(np.arange(1, len(pay_record_h)+1), ((pay_record_h)), color='blue')\n",
    "plt.autoscale(enable=True, tight=True)\n",
    "plt.xlabel('PAYMENTS')\n",
    "plt.xticks([1,2,3,4,5,6],('PAY1', 'PAY2', 'PAY3', 'PAY4', 'PAY5', 'PAY6'))\n",
    "plt.ylabel('Clients who paid more than 50% the bill amount')\n",
    "plt.show()"
   ]
  },
  {
   "cell_type": "markdown",
   "metadata": {},
   "source": [
    "#### As we see clients who paid 50% of the bill or higher on time or before varies based on payment cycle shows trendline not quite similar as the previous one "
   ]
  },
  {
   "cell_type": "markdown",
   "metadata": {},
   "source": [
    "#### Analysis in terms of by applied inferential statistics"
   ]
  },
  {
   "cell_type": "code",
   "execution_count": 60,
   "metadata": {},
   "outputs": [
    {
     "name": "stdout",
     "output_type": "stream",
     "text": [
      "95% conf. int. on balance limit : $ 430000.0\n"
     ]
    },
    {
     "data": {
      "image/png": "[encoded data removed]",
      "text/plain": [
       "<Figure size 432x288 with 1 Axes>"
      ]
     },
     "metadata": {
      "needs_background": "light"
     },
     "output_type": "display_data"
    }
   ],
   "source": [
    "# We will check the relevant inferential analysis on the balance limit \n",
    "bal = np.asanyarray(df['LIMIT_BAL'])\n",
    "bal = np.sort(bal)\n",
    "conf_int_95 = np.percentile(bal, [95])\n",
    "print('95% conf. int. on balance limit : $', np.round(conf_int_95[0]))\n",
    "bal_pdf = norm.pdf(bal, loc=np.mean(bal), scale=np.std(bal))\n",
    "plt.plot(bal, bal_pdf)\n",
    "plt.axvline(np.mean(bal), linestyle='-', color='purple')\n",
    "plt.axvline(conf_int_95, linestyle='--', color='green')\n",
    "plt.axvline(np.mean(bal)+1.95*np.std(bal), linestyle='--', color='blue')\n",
    "plt.autoscale(enable=True, tight=True)\n",
    "plt.show()"
   ]
  },
  {
   "cell_type": "raw",
   "metadata": {},
   "source": [
    "So the 95% confidence interval wrt the mean is within 2 std of the mean of the balance limit "
   ]
  },
  {
   "cell_type": "code",
   "execution_count": 49,
   "metadata": {},
   "outputs": [
    {
     "data": {
      "text/plain": [
       "2    18112\n",
       "1    11888\n",
       "Name: SEX, dtype: int64"
      ]
     },
     "execution_count": 49,
     "metadata": {},
     "output_type": "execute_result"
    }
   ],
   "source": [
    "# SEX 1== Male, 2==Female, default_payment == 0 means paid\n",
    "df['SEX'].value_counts()"
   ]
  },
  {
   "cell_type": "code",
   "execution_count": 50,
   "metadata": {},
   "outputs": [
    {
     "data": {
      "text/plain": [
       "0    23364\n",
       "1     6636\n",
       "Name: default payment next month, dtype: int64"
      ]
     },
     "execution_count": 50,
     "metadata": {},
     "output_type": "execute_result"
    }
   ],
   "source": [
    "df['default payment next month'].value_counts()"
   ]
  },
  {
   "cell_type": "code",
   "execution_count": 51,
   "metadata": {},
   "outputs": [
    {
     "name": "stdout",
     "output_type": "stream",
     "text": [
      "male_nondefault 9015  which is  30.05 % of the client\n"
     ]
    }
   ],
   "source": [
    "male_nondefault = df.apply(lambda row: 1 if(row['SEX']==1 and row['default payment next month']==0) else 0, axis=1 ).value_counts()[1]\n",
    "print('male_nondefault', male_nondefault, ' which is ', male_nondefault*100/30000, '% of the client')"
   ]
  },
  {
   "cell_type": "code",
   "execution_count": 52,
   "metadata": {},
   "outputs": [
    {
     "name": "stdout",
     "output_type": "stream",
     "text": [
      "male_default 2873  which is  10.0 % of the client\n"
     ]
    }
   ],
   "source": [
    "male_default = df.apply(lambda row: 1 if(row['SEX']==1 and row['default payment next month']==1) else 0, axis=1 ).value_counts()[1]\n",
    "print('male_default', male_default, ' which is ', np.round(male_default*100/30000), '% of the client')"
   ]
  },
  {
   "cell_type": "code",
   "execution_count": 53,
   "metadata": {},
   "outputs": [
    {
     "name": "stdout",
     "output_type": "stream",
     "text": [
      "female_nondefault 14349  which is  47.83 % of the client\n"
     ]
    }
   ],
   "source": [
    "female_nondefault =  df.apply(lambda row: 1 if(row['SEX']==2 and row['default payment next month']==0) else 0, axis=1 ).value_counts()[1]\n",
    "print('female_nondefault', female_nondefault, ' which is ', female_nondefault*100/30000, '% of the client')\n"
   ]
  },
  {
   "cell_type": "code",
   "execution_count": 54,
   "metadata": {},
   "outputs": [
    {
     "name": "stdout",
     "output_type": "stream",
     "text": [
      "female_default 3763  which is  13.0 % of the client\n"
     ]
    }
   ],
   "source": [
    "female_default =  df.apply(lambda row: 1 if(row['SEX']==2 and row['default payment next month']==1) else 0, axis=1 ).value_counts()[1]\n",
    "print('female_default', female_default, ' which is ', np.round(female_default*100/30000), '% of the client')\n"
   ]
  },
  {
   "cell_type": "raw",
   "metadata": {},
   "source": [
    "#### two sample proportion test of default rates between men and women"
   ]
  },
  {
   "cell_type": "code",
   "execution_count": 55,
   "metadata": {},
   "outputs": [
    {
     "name": "stdout",
     "output_type": "stream",
     "text": [
      " p1 =  0.7583277254374159\n",
      " p2 =  0.7922371908127208\n",
      " p =  0.7788\n",
      " Z score for 5% alpha label is 1.96 \n",
      "The hypothesis that the two population has has same proportion is rejected\n"
     ]
    }
   ],
   "source": [
    "# p1 = male_nondefault 9015 / out of total male 11888\n",
    "# p2 = female_nondefault 14349 / out of total female 18112\n",
    "# p = the overall sample proportion = (9015+14349)/(11888+18112)\n",
    "\n",
    "# Two sample proportion test Z = (p1-p2)/sqrt( p(1-p)*(1/n1+1/n2) )\n",
    "\n",
    "p1 = 9015/11888; print(\" p1 = \", p1)\n",
    "p2 = 14349/18112; print( \" p2 = \", p2 )\n",
    "p = (9015+14349)/(30000); print(\" p = \", p )\n",
    "\n",
    "Z = (p2-p1)/np.sqrt(p*(1-p)*(1/11888 + 1/18112))\n",
    "\n",
    "print(\" Z score for 5% alpha label is 1.96 \")\n",
    "\n",
    "if Z<1.96:\n",
    "    print(\"The hypothesis that the two population has same proportion is valid \")\n",
    "else:\n",
    "    print(\"The hypothesis that the two population has has same proportion is rejected\")\n",
    "\n"
   ]
  },
  {
   "cell_type": "code",
   "execution_count": null,
   "metadata": {},
   "outputs": [],
   "source": []
  }
 ],
 "metadata": {
  "kernelspec": {
   "display_name": "Python 3",
   "language": "python",
   "name": "python3"
  },
  "language_info": {
   "codemirror_mode": {
    "name": "ipython",
    "version": 3
   },
   "file_extension": ".py",
   "mimetype": "text/x-python",
   "name": "python",
   "nbconvert_exporter": "python",
   "pygments_lexer": "ipython3",
   "version": "3.7.1"
  }
 },
 "nbformat": 4,
 "nbformat_minor": 2
}
