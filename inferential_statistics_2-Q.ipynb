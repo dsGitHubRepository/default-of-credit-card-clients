{
 "cells": [
  {
   "cell_type": "markdown",
   "metadata": {},
   "source": [
    "# Inferential statistics II - Bootstrapping"
   ]
  },
  {
   "cell_type": "markdown",
   "metadata": {},
   "source": [
    "## Introduction"
   ]
  },
  {
   "cell_type": "markdown",
   "metadata": {},
   "source": [
    "In the previous frequentist mini-projects, you did frequentist calculations to perform inference from a sample of data. Such inference relies on theory largely developed from the 19th-Century onwards that is subject to certain assumptions or theoretical limits. These are fine if those assumptions hold for the particular case you're working on, and what you want to do has a known theoretical distribution (for example the mean of a sampling distribution that we looked at in the previous mini-project.)"
   ]
  },
  {
   "cell_type": "markdown",
   "metadata": {},
   "source": [
    "In this mini-project, you'll use the same medical charge data you used in the frequentist inference mini-project, but this time you'll make inferences about the population using bootstrapping (ie. simulating repeated re-runs of an experiment.) If frequentism is about using assumptions and theoretical results to calculate what we expect to happen were an experiment to be run again and again and again, then bootstrapping is about using computing power to essentially re-run the sample draw again and again and again to see what actually happens."
   ]
  },
  {
   "cell_type": "markdown",
   "metadata": {},
   "source": [
    "## Prerequisites"
   ]
  },
  {
   "cell_type": "markdown",
   "metadata": {},
   "source": [
    "While these exercises do not strictly depend on these concepts, we encourage you to complete the previous mini-projects before starting this one so that you can approach this assignment with a good understanding of frequentist concepts like:\n",
    "* the _z_-statistic\n",
    "* the _t_-statistic\n",
    "* the difference and relationship between the two\n",
    "* the Central Limit Theorem, its assumptions and consequences\n",
    "* how to estimate the population mean and standard deviation from a sample\n",
    "* the concept of a sampling distribution of a test statistic, particularly for the mean\n",
    "* how to combine these concepts to calculate confidence intervals and p-values\n",
    "* how those confidence intervals and p-values allow you to perform hypothesis (or A/B) tests"
   ]
  },
  {
   "cell_type": "markdown",
   "metadata": {},
   "source": [
    "To complete mini-project, it's important that you first complete the bootstrap resources listed in this subunit, as they contain valuable information about how to calculate bootstrap replicates of summary statistics. Having an basic understanding of what confidence intervals and p-values are will also be helpful (we touch on them in this mini-project, but please speak to your mentor or conduct individual research if you'd like to learn more.) "
   ]
  },
  {
   "cell_type": "markdown",
   "metadata": {},
   "source": [
    "Import necessary libraries"
   ]
  },
  {
   "cell_type": "code",
   "execution_count": 1,
   "metadata": {},
   "outputs": [],
   "source": [
    "import pandas as pd\n",
    "import numpy as np\n",
    "import matplotlib.pyplot as plt\n",
    "from numpy.random import seed\n",
    "from scipy.stats import norm\n",
    "from scipy import stats\n",
    "from scipy.stats import t"
   ]
  },
  {
   "cell_type": "markdown",
   "metadata": {},
   "source": [
    "## Medical charge data set"
   ]
  },
  {
   "cell_type": "code",
   "execution_count": 2,
   "metadata": {},
   "outputs": [],
   "source": [
    "med_charges = pd.read_csv('data/insurance2.csv')"
   ]
  },
  {
   "cell_type": "code",
   "execution_count": 5,
   "metadata": {},
   "outputs": [
    {
     "data": {
      "text/html": [
       "<div>\n",
       "<style scoped>\n",
       "    .dataframe tbody tr th:only-of-type {\n",
       "        vertical-align: middle;\n",
       "    }\n",
       "\n",
       "    .dataframe tbody tr th {\n",
       "        vertical-align: top;\n",
       "    }\n",
       "\n",
       "    .dataframe thead th {\n",
       "        text-align: right;\n",
       "    }\n",
       "</style>\n",
       "<table border=\"1\" class=\"dataframe\">\n",
       "  <thead>\n",
       "    <tr style=\"text-align: right;\">\n",
       "      <th></th>\n",
       "      <th>age</th>\n",
       "      <th>sex</th>\n",
       "      <th>bmi</th>\n",
       "      <th>children</th>\n",
       "      <th>smoker</th>\n",
       "      <th>region</th>\n",
       "      <th>charges</th>\n",
       "      <th>insuranceclaim</th>\n",
       "    </tr>\n",
       "  </thead>\n",
       "  <tbody>\n",
       "    <tr>\n",
       "      <th>0</th>\n",
       "      <td>19</td>\n",
       "      <td>0</td>\n",
       "      <td>27.900</td>\n",
       "      <td>0</td>\n",
       "      <td>1</td>\n",
       "      <td>3</td>\n",
       "      <td>16884.92400</td>\n",
       "      <td>1</td>\n",
       "    </tr>\n",
       "    <tr>\n",
       "      <th>1</th>\n",
       "      <td>18</td>\n",
       "      <td>1</td>\n",
       "      <td>33.770</td>\n",
       "      <td>1</td>\n",
       "      <td>0</td>\n",
       "      <td>2</td>\n",
       "      <td>1725.55230</td>\n",
       "      <td>1</td>\n",
       "    </tr>\n",
       "    <tr>\n",
       "      <th>2</th>\n",
       "      <td>28</td>\n",
       "      <td>1</td>\n",
       "      <td>33.000</td>\n",
       "      <td>3</td>\n",
       "      <td>0</td>\n",
       "      <td>2</td>\n",
       "      <td>4449.46200</td>\n",
       "      <td>0</td>\n",
       "    </tr>\n",
       "    <tr>\n",
       "      <th>3</th>\n",
       "      <td>33</td>\n",
       "      <td>1</td>\n",
       "      <td>22.705</td>\n",
       "      <td>0</td>\n",
       "      <td>0</td>\n",
       "      <td>1</td>\n",
       "      <td>21984.47061</td>\n",
       "      <td>0</td>\n",
       "    </tr>\n",
       "    <tr>\n",
       "      <th>4</th>\n",
       "      <td>32</td>\n",
       "      <td>1</td>\n",
       "      <td>28.880</td>\n",
       "      <td>0</td>\n",
       "      <td>0</td>\n",
       "      <td>1</td>\n",
       "      <td>3866.85520</td>\n",
       "      <td>1</td>\n",
       "    </tr>\n",
       "  </tbody>\n",
       "</table>\n",
       "</div>"
      ],
      "text/plain": [
       "   age  sex     bmi  children  smoker  region      charges  insuranceclaim\n",
       "0   19    0  27.900         0       1       3  16884.92400               1\n",
       "1   18    1  33.770         1       0       2   1725.55230               1\n",
       "2   28    1  33.000         3       0       2   4449.46200               0\n",
       "3   33    1  22.705         0       0       1  21984.47061               0\n",
       "4   32    1  28.880         0       0       1   3866.85520               1"
      ]
     },
     "execution_count": 5,
     "metadata": {},
     "output_type": "execute_result"
    }
   ],
   "source": [
    "med_charges.head()"
   ]
  },
  {
   "cell_type": "code",
   "execution_count": 25,
   "metadata": {},
   "outputs": [
    {
     "name": "stdout",
     "output_type": "stream",
     "text": [
      "    age  sex    bmi  children  smoker  region     charges  insuranceclaim\n",
      "0    19    0  27.90         0       1       3  16884.9240               1\n",
      "1    18    1  33.77         1       0       2   1725.5523               1\n",
      "4    32    1  28.88         0       0       1   3866.8552               1\n",
      "6    46    0  33.44         1       0       2   8240.5896               1\n",
      "10   25    1  26.22         0       0       0   2721.3208               1\n",
      "\n",
      "mean of insured charges :  16423.93 \n",
      "95% confidence interval :  [1727.32]\n",
      "\n",
      "\n",
      " max, min, avg, std of charges :  63770.0 1132.0 16424.0 14037.0\n"
     ]
    }
   ],
   "source": [
    "med_charges_1 = med_charges[med_charges['insuranceclaim'] == 1] # indexing in pd\n",
    "print(med_charges_1.head())\n",
    "x1 = np.asanyarray( (med_charges_1['charges']) )\n",
    "# conf_int = np.percentile(x1, [2.5,97.5])  # [ 1618.83 47430.44] if x1 is two tailed \n",
    "conf_int = np.percentile(x1, [5]) \n",
    "print('\\nmean of insured charges : ', np.round(np.mean(x1), 2), '\\n95% confidence interval : ',np.round(conf_int, 2)) \n",
    "print('\\n\\n max, min, avg, std of charges : ', np.round(np.max(x1)), np.round(np.min(x1)), np.round(np.mean(x1)), np.round(np.std(x1)) )"
   ]
  },
  {
   "cell_type": "code",
   "execution_count": 16,
   "metadata": {},
   "outputs": [
    {
     "name": "stdout",
     "output_type": "stream",
     "text": [
      "   age  sex     bmi  children  smoker  region      charges  insuranceclaim\n",
      "2   28    1  33.000         3       0       2   4449.46200               0\n",
      "3   33    1  22.705         0       0       1  21984.47061               0\n",
      "5   31    0  25.740         0       0       2   3756.62160               0\n",
      "7   37    0  27.740         3       0       1   7281.50560               0\n",
      "8   37    1  29.830         2       0       0   6406.41070               0\n",
      "\n",
      " mean of uninsured : 8821.0 \n",
      " 95% confidence interval :  [1968.16]\n"
     ]
    }
   ],
   "source": [
    "med_charges_2 = med_charges[med_charges['insuranceclaim'] == 0]\n",
    "print(med_charges_2.head())\n",
    "x2 = np.asanyarray(med_charges_2['charges'])\n",
    "cf2 = np.percentile(x2, [5])\n",
    "print('\\n mean of uninsured :', np.round(np.mean(x2)), '\\n 95% confidence interval : ', np.round(cf2, 2))"
   ]
  },
  {
   "cell_type": "code",
   "execution_count": 19,
   "metadata": {},
   "outputs": [
    {
     "data": {
      "image/png": "[encoded data removed]",
      "text/plain": [
       "<Figure size 432x288 with 1 Axes>"
      ]
     },
     "metadata": {
      "needs_background": "light"
     },
     "output_type": "display_data"
    }
   ],
   "source": [
    "x1_s = np.sort(x1)\n",
    "x1_pdf = norm.pdf(x1_s, loc = np.mean(x1), scale = np.std(x1))\n",
    "\n",
    "_ = plt.plot(x1_s, x1_pdf, 'red')\n",
    "_ = plt.grid()\n",
    "_ = plt.axvline(conf_int, marker='d', linestyle = '-', color='blue')\n",
    "_ = plt.axvline(np.mean(x1), linestyle='-', color='m')\n",
    "_ = plt.xlabel('charges insured group')\n",
    "_ = plt.ylabel('PDF')\n",
    "_ = plt.title('Conf. Int. 95% for one tailed distribution')\n",
    "_ = plt.show()\n"
   ]
  },
  {
   "cell_type": "code",
   "execution_count": 24,
   "metadata": {},
   "outputs": [
    {
     "data": {
      "image/png": "[encoded data removed]",
      "text/plain": [
       "<Figure size 432x288 with 1 Axes>"
      ]
     },
     "metadata": {
      "needs_background": "light"
     },
     "output_type": "display_data"
    }
   ],
   "source": [
    "x2_s = np.sort(x2)\n",
    "x2_pdf = norm.pdf(x2_s, loc = np.mean(x2_s), scale = np.std(x2_s))\n",
    "_ = plt.plot(x2_s, x2_pdf, 'red')\n",
    "_ = plt.grid()\n",
    "_ = plt.axvline(cf2, marker='d', linestyle = '-', color='b')\n",
    "_ = plt.axvline(np.mean(x2), linestyle='-', color='m')\n",
    "_ = plt.xlabel('charges Uninsured group')\n",
    "_ = plt.ylabel('PDF')\n",
    "_ = plt.title('95% conf. int. shown by blue vertical line')\n",
    "_ = plt.show()"
   ]
  },
  {
   "cell_type": "markdown",
   "metadata": {},
   "source": [
    "In the previous assignment, you used the frequentist approach to estimate the lower limit for the 95% confidence interval on the mean hospital charge. This approach relies on statistical theory that has been developed over the years and is also limited to statistics for which theoretical results on the sampling distribution exist. These results are remarkably useful and applicable much of the time and under a surprisingly wide range of conditions."
   ]
  },
  {
   "cell_type": "markdown",
   "metadata": {},
   "source": [
    "Having calculated the 95% lower confidence interval using frequentist theory in the previous exercise, you'll now use bootstrap inference to verify your calculations and check that you get consistent results without making the assumptions required before. After all, the distribution of charges really was very non-normal."
   ]
  },
  {
   "cell_type": "markdown",
   "metadata": {},
   "source": [
    "__Q:__ Use bootstrap sampling to estimate the same 95% confidence interval lower limit as before."
   ]
  },
  {
   "cell_type": "markdown",
   "metadata": {},
   "source": [
    "__A:__"
   ]
  },
  {
   "cell_type": "code",
   "execution_count": 51,
   "metadata": {},
   "outputs": [
    {
     "name": "stdout",
     "output_type": "stream",
     "text": [
      "Index(['age', 'sex', 'bmi', 'children', 'smoker', 'region', 'charges',\n",
      "       'insuranceclaim'],\n",
      "      dtype='object')\n"
     ]
    }
   ],
   "source": [
    "print(med_charges.columns)"
   ]
  },
  {
   "cell_type": "code",
   "execution_count": 52,
   "metadata": {},
   "outputs": [],
   "source": [
    "np.random.seed(47)\n",
    "N_rep = 10000"
   ]
  },
  {
   "cell_type": "code",
   "execution_count": 53,
   "metadata": {},
   "outputs": [],
   "source": [
    "# Define function to randomly select a sample from a dataset (of the same size)\n",
    "def bootstrap_replicate_1d(data, func):\n",
    "    return func(np.random.choice(data, size=len(data)))\n",
    "\n",
    "# Define function to get size number of bootstrap replicates using an input sample and replicate function\n",
    "def draw_bs_reps(data, func, size):\n",
    "    bs_replicates = np.empty(size)\n",
    "    for i in range(size):\n",
    "        bs_replicates[i] = bootstrap_replicate_1d(data, func)\n",
    "    return bs_replicates\n"
   ]
  },
  {
   "cell_type": "code",
   "execution_count": 54,
   "metadata": {
    "scrolled": true
   },
   "outputs": [
    {
     "name": "stdout",
     "output_type": "stream",
     "text": [
      "\n",
      "mean of bs replicates 16426.0 mean of x1 :  16424.0\n",
      "\n",
      "two means differ by :  -0.0\n"
     ]
    }
   ],
   "source": [
    "#bs_x1 = [bootstrap_replicate_1d(x1, np.mean) for i in np.arange(10000)]\n",
    "bs_x1 = draw_bs_reps(x1, np.mean, size=N_rep)\n",
    "print('\\nmean of bs replicates', np.round(np.mean(bs_x1)), 'mean of x1 : ', np.round(np.mean(x1)) )\n",
    "print('\\ntwo means differ by : ', np.round((np.mean(x1)-np.mean(bs_x1))*100/((np.mean(x1)+np.mean(bs_x1))/2)))"
   ]
  },
  {
   "cell_type": "code",
   "execution_count": 56,
   "metadata": {},
   "outputs": [
    {
     "name": "stdout",
     "output_type": "stream",
     "text": [
      "\n",
      "mean of bs replicates 8820.0 mean of x1 :  8821.0\n",
      "\n",
      "two means differ by :  0.0\n"
     ]
    }
   ],
   "source": [
    "#bs_x1 = [bootstrap_replicate_1d(x1, np.mean) for i in np.arange(10000)]\n",
    "bs_x2 = draw_bs_reps(x2, np.mean, size=N_rep)\n",
    "print('\\nmean of bs replicates', np.round(np.mean(bs_x2)), 'mean of x1 : ', np.round(np.mean(x2)) )\n",
    "print('\\ntwo means differ by : ', np.round((np.mean(x2)-np.mean(bs_x2))*100/((np.mean(x2)+np.mean(bs_x2))/2)))"
   ]
  },
  {
   "cell_type": "markdown",
   "metadata": {},
   "source": [
    "### We will check whether bs replicates are two tailed distribution"
   ]
  },
  {
   "cell_type": "code",
   "execution_count": 67,
   "metadata": {},
   "outputs": [
    {
     "data": {
      "image/png": "[encoded data removed]",
      "text/plain": [
       "<Figure size 432x288 with 1 Axes>"
      ]
     },
     "metadata": {
      "needs_background": "light"
     },
     "output_type": "display_data"
    }
   ],
   "source": [
    "bs_x1_s = np.sort(bs_x1)\n",
    "bs_x1_pdf = norm.pdf(bs_x1_s, loc=np.mean(bs_x1), scale=np.std(bs_x1))\n",
    "plt.plot(np.sort(bs_x1), bs_x1_pdf, color='red')\n",
    "plt.axvline(np.mean(bs_x1), linestyle='-', color='blue')\n",
    "plt.axvline(np.mean(bs_x1)+np.std(bs_x1), linestyle='--', color='purple')\n",
    "plt.axvline(np.mean(bs_x1)-np.std(bs_x1), linestyle='--', color='purple')\n",
    "plt.axvline(np.mean(bs_x1)+2*np.std(bs_x1), linestyle='--', color='yellow')\n",
    "plt.axvline(np.mean(bs_x1)-2*np.std(bs_x1), linestyle='--', color='yellow')\n",
    "plt.autoscale(enable=True, tight=True)\n",
    "plt.ylabel('PDF')\n",
    "plt.xlabel('bs insured charges')\n",
    "plt.show()"
   ]
  },
  {
   "cell_type": "code",
   "execution_count": 68,
   "metadata": {},
   "outputs": [
    {
     "data": {
      "image/png": "[encoded data removed]",
      "text/plain": [
       "<Figure size 432x288 with 1 Axes>"
      ]
     },
     "metadata": {
      "needs_background": "light"
     },
     "output_type": "display_data"
    }
   ],
   "source": [
    "bs_x2_s = np.sort(bs_x2)\n",
    "bs_x2_pdf = norm.pdf(bs_x2_s, loc=np.mean(bs_x2), scale=np.std(bs_x2))\n",
    "plt.plot(np.sort(bs_x2), bs_x2_pdf, color='red')\n",
    "plt.axvline(np.mean(bs_x2), linestyle='-', color='blue')\n",
    "plt.axvline(np.mean(bs_x2)+np.std(bs_x2), linestyle='--', color='purple')\n",
    "plt.axvline(np.mean(bs_x2)-np.std(bs_x2), linestyle='--', color='purple')\n",
    "plt.axvline(np.mean(bs_x2)+2*np.std(bs_x2), linestyle='--', color='yellow')\n",
    "plt.axvline(np.mean(bs_x2)-2*np.std(bs_x2), linestyle='--', color='yellow')\n",
    "plt.autoscale(enable=True, tight=True)\n",
    "plt.xlabel('bs charges uninsured')\n",
    "plt.ylabel('PDF')\n",
    "plt.show()"
   ]
  },
  {
   "cell_type": "markdown",
   "metadata": {},
   "source": [
    "#### Since the bs replicates are two tailed so the conf. int. calc. follows the following "
   ]
  },
  {
   "cell_type": "code",
   "execution_count": 81,
   "metadata": {},
   "outputs": [
    {
     "name": "stdout",
     "output_type": "stream",
     "text": [
      " 95% Conf. Int. :  15463.0 17406.0 shown by red line\n"
     ]
    },
    {
     "data": {
      "image/png": "[encoded data removed]",
      "text/plain": [
       "<Figure size 432x288 with 1 Axes>"
      ]
     },
     "metadata": {
      "needs_background": "light"
     },
     "output_type": "display_data"
    }
   ],
   "source": [
    "conf_int_bs_x1 = np.percentile(bs_x1, [2.5,97.5] )\n",
    "print(' 95% Conf. Int. : ', np.round(conf_int_bs_x1[0]), np.round(conf_int_bs_x1[1]), 'shown by red line')\n",
    "_=plt.plot(np.sort(bs_x1), bs_x1_pdf, color='black')\n",
    "_=plt.autoscale(enable=True, tight=True)\n",
    "_=plt.axvline(np.mean(bs_x1), linestyle='--', color='blue')\n",
    "_=plt.axvline(conf_int_bs_x1[0], linestyle='-', color='red')\n",
    "_=plt.axvline(conf_int_bs_x1[1], linestyle='-', color='red')\n",
    "_=plt.xlabel('bs replicate charges insured')\n",
    "_=plt.ylabel('PDF')\n",
    "_=plt.show()"
   ]
  },
  {
   "cell_type": "code",
   "execution_count": 85,
   "metadata": {},
   "outputs": [
    {
     "name": "stdout",
     "output_type": "stream",
     "text": [
      " 95% Conf. Int. :  8296.0 9366.0 shown by red line\n"
     ]
    },
    {
     "data": {
      "image/png": "[encoded data removed]",
      "text/plain": [
       "<Figure size 432x288 with 1 Axes>"
      ]
     },
     "metadata": {
      "needs_background": "light"
     },
     "output_type": "display_data"
    }
   ],
   "source": [
    "conf_int_bs_x2 = np.percentile(bs_x2, [2.5,97.5] )\n",
    "print(' 95% Conf. Int. : ', np.round(conf_int_bs_x2[0]), np.round(conf_int_bs_x2[1]), 'shown by red line')\n",
    "_=plt.plot(np.sort(bs_x2), bs_x2_pdf, color='black')\n",
    "_=plt.autoscale(enable=True, tight=True)\n",
    "_=plt.axvline(np.mean(bs_x2), linestyle='--', color='blue')\n",
    "_=plt.axvline(conf_int_bs_x2[0], linestyle='-', color='red')\n",
    "_=plt.axvline(conf_int_bs_x2[1], linestyle='-', color='red')\n",
    "_=plt.xlabel('bs replicate charges uninsured')\n",
    "_=plt.ylabel('PDF')\n",
    "_=plt.show()"
   ]
  },
  {
   "cell_type": "markdown",
   "metadata": {},
   "source": [
    "If you performed 10000 replicates immediately after setting the random seed to 47, you should get the value 12724 here, which compares very well with the value 12725 obtained using the _t_-distribution confidence interval previously. It is a most pleasant result to see the predictions of classical frequentist theory match with results that are now possible through the number-crunching ability of computers."
   ]
  },
  {
   "cell_type": "markdown",
   "metadata": {},
   "source": [
    "Remember, in the previous mini-projects, we saw that there are two ways of performing a _t_-test from a sample, depending on whether we can assume the groups have equal variance or not. We can actually easily test this using the bootstrap approach!"
   ]
  },
  {
   "cell_type": "markdown",
   "metadata": {},
   "source": [
    "__Q:__ Calculate the 95% confidence interval for the difference between the standard deviations of insurance and non-insurance claim charges (insured - non-insured). Calculate the differences over 10000 replicates. Plot the histogram of values and mark the locations of the percentiles. State the null and alternative hypothesis and comment on whether you would retain or reject the null hypothesis in this case and why."
   ]
  },
  {
   "cell_type": "markdown",
   "metadata": {},
   "source": [
    "__A:__"
   ]
  },
  {
   "cell_type": "code",
   "execution_count": 91,
   "metadata": {},
   "outputs": [
    {
     "data": {
      "image/png": "[encoded data removed]",
      "text/plain": [
       "<Figure size 432x288 with 1 Axes>"
      ]
     },
     "metadata": {
      "needs_background": "light"
     },
     "output_type": "display_data"
    }
   ],
   "source": [
    "_ = plt.hist(bs_x1)\n",
    "\n",
    "_ = plt.axvline(np.mean(bs_x1), color='blue')\n",
    "\n",
    "\n",
    "_ = plt.axvline(conf_int_bs_x1[0], linestyle='--', color='b')\n",
    "_ = plt.axvline(conf_int_bs_x1[1], linestyle='--', color='b')\n",
    "\n",
    "\n",
    "_ = plt.axvline(np.mean(bs_x1)+np.std(bs_x1), color='red', linestyle='--')\n",
    "_ = plt.axvline(np.mean(bs_x1)+2*np.std(bs_x1), color='red', linestyle='--')\n",
    "\n",
    "_ = plt.axvline(np.mean(bs_x1)-np.std(bs_x1), color='red', linestyle='--')\n",
    "_ = plt.axvline(np.mean(bs_x1)-2*np.std(bs_x1), color='red', linestyle='--')\n",
    "\n",
    "\n",
    "_ = plt.title('blue dotted line for 95% confidence interval charge')\n",
    "_ = plt.xlabel('charges (insured group)')\n",
    "\n",
    "\n",
    "_= plt.autoscale(enable=True, tight=True)\n",
    "_=plt.show()"
   ]
  },
  {
   "cell_type": "code",
   "execution_count": 92,
   "metadata": {},
   "outputs": [
    {
     "data": {
      "image/png": "[encoded data removed]",
      "text/plain": [
       "<Figure size 432x288 with 1 Axes>"
      ]
     },
     "metadata": {
      "needs_background": "light"
     },
     "output_type": "display_data"
    }
   ],
   "source": [
    "_ = plt.hist(bs_x2)\n",
    "\n",
    "_ = plt.axvline(np.mean(bs_x2), color='blue')\n",
    "\n",
    "\n",
    "_ = plt.axvline(conf_int_bs_x2[0], linestyle='--', color='b')\n",
    "_ = plt.axvline(conf_int_bs_x2[1], linestyle='--', color='b')\n",
    "\n",
    "\n",
    "_ = plt.axvline(np.mean(bs_x2)+np.std(bs_x2), color='red', linestyle='--')\n",
    "_ = plt.axvline(np.mean(bs_x2)+2*np.std(bs_x2), color='red', linestyle='--')\n",
    "\n",
    "_ = plt.axvline(np.mean(bs_x2)-np.std(bs_x2), color='red', linestyle='--')\n",
    "_ = plt.axvline(np.mean(bs_x2)-2*np.std(bs_x2), color='red', linestyle='--')\n",
    "\n",
    "\n",
    "_ = plt.title('blue dotted line for 95% confidence interval charge')\n",
    "_ = plt.xlabel('charges (Uninsured group)')\n",
    "\n",
    "\n",
    "_= plt.autoscale(enable=True, tight=True)\n",
    "_=plt.show()"
   ]
  },
  {
   "cell_type": "markdown",
   "metadata": {},
   "source": [
    "## Confidence interval and p-value"
   ]
  },
  {
   "cell_type": "markdown",
   "metadata": {},
   "source": [
    "The confidence interval above is often a useful quantity to estimate. If we wish to limit our expected probability of making a Type I error (where we wrongly reject the null hypothesis, and it is, instead, true) to $\\alpha$, the associated confidence interval is our estimate of the interval within which we expect the true population value to be found $100\\times(1 - \\alpha)$% of the time we do this test. In the above we performed bootstrap replicates to estimate the interval and reject the null hypothesis if this interval did not contain zero. You will sometimes see such an interval reported in the output of statistical functions.\n",
    "\n",
    "The partner of the confidence interval is the p-value. The p-value and the confidence interval are linked through our choice of $\\alpha$. The p-value tells us how likely it is, under the null hypothesis, to get an outcome at least as extreme as what was observed. If this fails to reach the level of our _pre-specified_ $\\alpha$, we decide the null hypothesis is sufficiently unlikely to be true and thus reject it. To calculate this p-value via the bootstrap, we have to put ourselves in a position where we are simulating the null hypothesis being true and then calculate the fraction of times we observe a result at least as extreme as that actually observed.\n",
    "\n",
    "Remember how, previously, you used the _t_-test to calculate the p-value for the observed difference between the means of insured and non-insured medical cases. We're now going to repeat this, this time using the bootstrap approach.\n",
    "\n",
    "__Q:__ Perform a bootstrapped hypothesis test at the 5% significance level ($\\alpha = 0.05$) to calculate the p-value of the observed difference between insurance and non-insurance charges, state your null and alternative hypotheses and whether you retain or reject the null hypothesis for the given significance level."
   ]
  },
  {
   "cell_type": "markdown",
   "metadata": {},
   "source": [
    "__A:__"
   ]
  },
  {
   "cell_type": "code",
   "execution_count": 93,
   "metadata": {},
   "outputs": [
    {
     "name": "stdout",
     "output_type": "stream",
     "text": [
      "1342.567415438294\n"
     ]
    },
    {
     "data": {
      "text/plain": [
       "Ttest_indResult(statistic=1342.5002853892286, pvalue=0.0)"
      ]
     },
     "execution_count": 93,
     "metadata": {},
     "output_type": "execute_result"
    }
   ],
   "source": [
    "# bs_x1, bs_x2\n",
    "\n",
    "n0 = np.size(bs_x1)\n",
    "n1 = np.size(bs_x2)\n",
    "s0 = np.std(bs_x1)\n",
    "s1 = np.std(bs_x2)\n",
    "\n",
    "sp = np.sqrt( ((n0-1)*s0**2 + (n1-1)*s1**2)/(n0+n1-2))\n",
    "\n",
    "t_value = (np.mean(bs_x1) - np.mean(bs_x2))/(sp*np.sqrt((1/10000)+(1/10000)))\n",
    "print(t_value)\n",
    "\n",
    "stats.ttest_ind(bs_x1, bs_x2, equal_var=False)"
   ]
  },
  {
   "cell_type": "code",
   "execution_count": 94,
   "metadata": {},
   "outputs": [
    {
     "name": "stdout",
     "output_type": "stream",
     "text": [
      "0.0\n"
     ]
    }
   ],
   "source": [
    "dof = 10000+10000-2\n",
    "p_value = 2*(1-t.cdf(t_value, dof))\n",
    "print(p_value)"
   ]
  },
  {
   "cell_type": "code",
   "execution_count": 95,
   "metadata": {},
   "outputs": [
    {
     "name": "stdout",
     "output_type": "stream",
     "text": [
      " With raw data t-statistics was 59.23836797940925  13.298031957975649\n"
     ]
    }
   ],
   "source": [
    "[t_raw, p_raw] = stats.ttest_ind(x1,x2, equal_var=False)\n",
    "print(' With raw data t-statistics was 59.23836797940925 ', t_raw)"
   ]
  },
  {
   "cell_type": "markdown",
   "metadata": {},
   "source": [
    "### So the groups are quiet different"
   ]
  },
  {
   "cell_type": "code",
   "execution_count": null,
   "metadata": {},
   "outputs": [],
   "source": []
  },
  {
   "cell_type": "code",
   "execution_count": null,
   "metadata": {},
   "outputs": [],
   "source": []
  },
  {
   "cell_type": "markdown",
   "metadata": {},
   "source": [
    "__Q:__ To put the above result in perspective, plot the histogram of your bootstrapped differences along with lines marking the locations of the observed difference. (Why would we plot more than one line, given that we only have one observed difference?)"
   ]
  },
  {
   "cell_type": "markdown",
   "metadata": {},
   "source": [
    "__A:__"
   ]
  },
  {
   "cell_type": "code",
   "execution_count": null,
   "metadata": {},
   "outputs": [],
   "source": [
    "# How t-value can be incorporated in histogram ? I am not quiet sure what the question is asking "
   ]
  },
  {
   "cell_type": "markdown",
   "metadata": {},
   "source": [
    "__Q:__ Compare your p-value above with that obtained using the _t_-test function in the previous assignment. Do you think you would want to try to perform enough bootstrap replicates to observe a random difference as large as that we did observe?"
   ]
  },
  {
   "cell_type": "markdown",
   "metadata": {},
   "source": [
    "__A:__\n",
    "\n",
    "p-value is zero either with frequentiest approach or bootstrapped approach. "
   ]
  },
  {
   "cell_type": "markdown",
   "metadata": {},
   "source": [
    "__Q:__ Consider the two variants of the _t_-test we performed in the previous assignment. Which one would you use now?"
   ]
  },
  {
   "cell_type": "markdown",
   "metadata": {},
   "source": [
    "__A:__"
   ]
  },
  {
   "cell_type": "markdown",
   "metadata": {},
   "source": [
    "__Q:__ If, instead of being asked whether the means of two groups were different, you were working with an ad-recommender team who wanted to release a new recommendation algorithm, and you were looking at click-through rate both for the current algorithm (call it A) and from trials of their new algorithm (call it B), would you perform a two-sided test as above? What would be your null and alternative hypotheses and what would be the real-world consequence of rejecting the null hypothesis?"
   ]
  },
  {
   "cell_type": "markdown",
   "metadata": {},
   "source": [
    "__A:__"
   ]
  },
  {
   "cell_type": "markdown",
   "metadata": {},
   "source": [
    "# Learning outcomes\n",
    "\n",
    "You've previously applied frequentist methods to calculate confidence intervals, p-values, and perform hypothesis tests. Frequentist methods use theoretical results to calculate what we expect would happen if experiments were to be run again and again and again. Now you've seen how you can do the same things using the bootstrap approach, which does not rely on such theory, and attendant assumptions, but instead literally does run experiments again and again and again.\n",
    "\n",
    "In these exercises, you have:\n",
    "* calculated the same confidence interval lower limit as you did previously\n",
    "* tested the assumption that the variances of the two groups (insured vs. non-insured) were equal - something a bit harder to do using the frequentist method because of the nature of the sampling distribution for variance\n",
    "* calculated the p-value for the difference between the means of the two groups and compared with the result obtained using the previous frequentist approach\n",
    "\n",
    "You are now well equipped to apply the bootstrap approach to a wide variety of problems. Just think about what conditions you wish to recreate in your simulated reruns."
   ]
  }
 ],
 "metadata": {
  "kernelspec": {
   "display_name": "Python 3",
   "language": "python",
   "name": "python3"
  },
  "language_info": {
   "codemirror_mode": {
    "name": "ipython",
    "version": 3
   },
   "file_extension": ".py",
   "mimetype": "text/x-python",
   "name": "python",
   "nbconvert_exporter": "python",
   "pygments_lexer": "ipython3",
   "version": "3.7.1"
  }
 },
 "nbformat": 4,
 "nbformat_minor": 2
}
